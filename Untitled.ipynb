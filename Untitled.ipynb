{
 "cells": [
  {
   "cell_type": "code",
   "execution_count": 116,
   "id": "2c74706a",
   "metadata": {},
   "outputs": [],
   "source": [
    "# Importing libraries\n",
    "import  numpy as np\n",
    "import pandas as pd\n",
    "from math import log2"
   ]
  },
  {
   "cell_type": "code",
   "execution_count": 117,
   "id": "571e21bf",
   "metadata": {},
   "outputs": [],
   "source": [
    "ds = pd.read_csv('data.csv',';')"
   ]
  },
  {
   "cell_type": "code",
   "execution_count": 118,
   "id": "f3e629ae",
   "metadata": {},
   "outputs": [
    {
     "data": {
      "text/plain": [
       "(20, 6)"
      ]
     },
     "execution_count": 118,
     "metadata": {},
     "output_type": "execute_result"
    }
   ],
   "source": [
    "ds.shape"
   ]
  },
  {
   "cell_type": "code",
   "execution_count": 119,
   "id": "88ed98da",
   "metadata": {},
   "outputs": [
    {
     "data": {
      "text/html": [
       "<div>\n",
       "<style scoped>\n",
       "    .dataframe tbody tr th:only-of-type {\n",
       "        vertical-align: middle;\n",
       "    }\n",
       "\n",
       "    .dataframe tbody tr th {\n",
       "        vertical-align: top;\n",
       "    }\n",
       "\n",
       "    .dataframe thead th {\n",
       "        text-align: right;\n",
       "    }\n",
       "</style>\n",
       "<table border=\"1\" class=\"dataframe\">\n",
       "  <thead>\n",
       "    <tr style=\"text-align: right;\">\n",
       "      <th></th>\n",
       "      <th>REC</th>\n",
       "      <th>Age</th>\n",
       "      <th>Income</th>\n",
       "      <th>Student</th>\n",
       "      <th>Credit_rating</th>\n",
       "      <th>Buys_computer</th>\n",
       "    </tr>\n",
       "  </thead>\n",
       "  <tbody>\n",
       "    <tr>\n",
       "      <th>0</th>\n",
       "      <td>r1</td>\n",
       "      <td>&lt;=30</td>\n",
       "      <td>High</td>\n",
       "      <td>No</td>\n",
       "      <td>Fair</td>\n",
       "      <td>No</td>\n",
       "    </tr>\n",
       "    <tr>\n",
       "      <th>1</th>\n",
       "      <td>r2</td>\n",
       "      <td>&lt;=30</td>\n",
       "      <td>High</td>\n",
       "      <td>No</td>\n",
       "      <td>Excellent</td>\n",
       "      <td>No</td>\n",
       "    </tr>\n",
       "    <tr>\n",
       "      <th>2</th>\n",
       "      <td>r3</td>\n",
       "      <td>31...40</td>\n",
       "      <td>High</td>\n",
       "      <td>No</td>\n",
       "      <td>Fair</td>\n",
       "      <td>Yes</td>\n",
       "    </tr>\n",
       "    <tr>\n",
       "      <th>3</th>\n",
       "      <td>r4</td>\n",
       "      <td>&gt;40</td>\n",
       "      <td>Medium</td>\n",
       "      <td>No</td>\n",
       "      <td>Fair</td>\n",
       "      <td>Yes</td>\n",
       "    </tr>\n",
       "    <tr>\n",
       "      <th>4</th>\n",
       "      <td>r5</td>\n",
       "      <td>&gt;40</td>\n",
       "      <td>Low</td>\n",
       "      <td>Yes</td>\n",
       "      <td>Fair</td>\n",
       "      <td>Yes</td>\n",
       "    </tr>\n",
       "    <tr>\n",
       "      <th>5</th>\n",
       "      <td>r6</td>\n",
       "      <td>&gt;40</td>\n",
       "      <td>Low</td>\n",
       "      <td>Yes</td>\n",
       "      <td>Excellent</td>\n",
       "      <td>No</td>\n",
       "    </tr>\n",
       "    <tr>\n",
       "      <th>6</th>\n",
       "      <td>r7</td>\n",
       "      <td>31...40</td>\n",
       "      <td>Low</td>\n",
       "      <td>Yes</td>\n",
       "      <td>Excellent</td>\n",
       "      <td>Yes</td>\n",
       "    </tr>\n",
       "    <tr>\n",
       "      <th>7</th>\n",
       "      <td>r8</td>\n",
       "      <td>&lt;=30</td>\n",
       "      <td>Medium</td>\n",
       "      <td>No</td>\n",
       "      <td>Fair</td>\n",
       "      <td>No</td>\n",
       "    </tr>\n",
       "    <tr>\n",
       "      <th>8</th>\n",
       "      <td>r9</td>\n",
       "      <td>&lt;=30</td>\n",
       "      <td>Low</td>\n",
       "      <td>Yes</td>\n",
       "      <td>Fair</td>\n",
       "      <td>Yes</td>\n",
       "    </tr>\n",
       "    <tr>\n",
       "      <th>9</th>\n",
       "      <td>r10</td>\n",
       "      <td>&gt;40</td>\n",
       "      <td>Medium</td>\n",
       "      <td>Yes</td>\n",
       "      <td>Fair</td>\n",
       "      <td>Yes</td>\n",
       "    </tr>\n",
       "    <tr>\n",
       "      <th>10</th>\n",
       "      <td>r11</td>\n",
       "      <td>&lt;=30</td>\n",
       "      <td>Medium</td>\n",
       "      <td>Yes</td>\n",
       "      <td>Excellent</td>\n",
       "      <td>Yes</td>\n",
       "    </tr>\n",
       "    <tr>\n",
       "      <th>11</th>\n",
       "      <td>r12</td>\n",
       "      <td>31...40</td>\n",
       "      <td>Medium</td>\n",
       "      <td>No</td>\n",
       "      <td>Excellent</td>\n",
       "      <td>Yes</td>\n",
       "    </tr>\n",
       "    <tr>\n",
       "      <th>12</th>\n",
       "      <td>r13</td>\n",
       "      <td>31...40</td>\n",
       "      <td>High</td>\n",
       "      <td>Yes</td>\n",
       "      <td>Fair</td>\n",
       "      <td>Yes</td>\n",
       "    </tr>\n",
       "    <tr>\n",
       "      <th>13</th>\n",
       "      <td>r14</td>\n",
       "      <td>&gt;40</td>\n",
       "      <td>Medium</td>\n",
       "      <td>No</td>\n",
       "      <td>Excellent</td>\n",
       "      <td>No</td>\n",
       "    </tr>\n",
       "    <tr>\n",
       "      <th>14</th>\n",
       "      <td>r15</td>\n",
       "      <td>&lt;=30</td>\n",
       "      <td>Medium</td>\n",
       "      <td>No</td>\n",
       "      <td>Excellent</td>\n",
       "      <td>No</td>\n",
       "    </tr>\n",
       "    <tr>\n",
       "      <th>15</th>\n",
       "      <td>r16</td>\n",
       "      <td>&lt;=30</td>\n",
       "      <td>Low</td>\n",
       "      <td>No</td>\n",
       "      <td>Fair</td>\n",
       "      <td>No</td>\n",
       "    </tr>\n",
       "    <tr>\n",
       "      <th>16</th>\n",
       "      <td>r17</td>\n",
       "      <td>&lt;=30</td>\n",
       "      <td>Low</td>\n",
       "      <td>No</td>\n",
       "      <td>Excellent</td>\n",
       "      <td>No</td>\n",
       "    </tr>\n",
       "    <tr>\n",
       "      <th>17</th>\n",
       "      <td>ri8</td>\n",
       "      <td>31...40</td>\n",
       "      <td>Low</td>\n",
       "      <td>Yes</td>\n",
       "      <td>Fair</td>\n",
       "      <td>Yes</td>\n",
       "    </tr>\n",
       "    <tr>\n",
       "      <th>18</th>\n",
       "      <td>r19</td>\n",
       "      <td>&gt;40</td>\n",
       "      <td>Medium</td>\n",
       "      <td>Yes</td>\n",
       "      <td>Excellent</td>\n",
       "      <td>Yes</td>\n",
       "    </tr>\n",
       "    <tr>\n",
       "      <th>19</th>\n",
       "      <td>r20</td>\n",
       "      <td>31...40</td>\n",
       "      <td>High</td>\n",
       "      <td>No</td>\n",
       "      <td>Excellent</td>\n",
       "      <td>Yes</td>\n",
       "    </tr>\n",
       "  </tbody>\n",
       "</table>\n",
       "</div>"
      ],
      "text/plain": [
       "    REC      Age  Income Student Credit_rating Buys_computer\n",
       "0    r1     <=30    High      No          Fair            No\n",
       "1    r2     <=30    High      No     Excellent            No\n",
       "2    r3  31...40    High      No          Fair           Yes\n",
       "3    r4      >40  Medium      No          Fair           Yes\n",
       "4    r5      >40     Low     Yes          Fair           Yes\n",
       "5    r6      >40     Low     Yes     Excellent            No\n",
       "6    r7  31...40     Low     Yes     Excellent           Yes\n",
       "7    r8     <=30  Medium      No          Fair            No\n",
       "8    r9     <=30     Low     Yes          Fair           Yes\n",
       "9   r10      >40  Medium     Yes          Fair           Yes\n",
       "10  r11     <=30  Medium     Yes     Excellent           Yes\n",
       "11  r12  31...40  Medium      No     Excellent           Yes\n",
       "12  r13  31...40    High     Yes          Fair           Yes\n",
       "13  r14      >40  Medium      No     Excellent            No\n",
       "14  r15     <=30  Medium      No     Excellent            No\n",
       "15  r16     <=30     Low      No          Fair            No\n",
       "16  r17     <=30     Low      No     Excellent            No\n",
       "17  ri8  31...40     Low     Yes          Fair           Yes\n",
       "18  r19      >40  Medium     Yes     Excellent           Yes\n",
       "19  r20  31...40    High      No     Excellent           Yes"
      ]
     },
     "execution_count": 119,
     "metadata": {},
     "output_type": "execute_result"
    }
   ],
   "source": [
    "ds"
   ]
  },
  {
   "cell_type": "code",
   "execution_count": 142,
   "id": "367b4367",
   "metadata": {},
   "outputs": [],
   "source": [
    "def entropy(x1, x2):\n",
    "    sum = x1 + x2\n",
    "    if (x1 == 0) or (x2 == 0):\n",
    "        return 0\n",
    "    else:\n",
    "        return -(x1 / sum * log2(x1 / sum)) - (x2 / sum * log2(x2 / sum))"
   ]
  },
  {
   "cell_type": "code",
   "execution_count": 148,
   "id": "16f85e26",
   "metadata": {},
   "outputs": [],
   "source": [
    "def gainEntropy (array):\n",
    "    lSum = sum(array)\n",
    "    gain = 0\n",
    "    \n",
    "    for a in range(0, len(array), 2):\n",
    "        gain += (array[a] + array[a+1]) / lSum * entropy(array[a], array[a+1])\n",
    "        \n",
    "    return gain"
   ]
  },
  {
   "cell_type": "code",
   "execution_count": 153,
   "id": "ab942c95",
   "metadata": {},
   "outputs": [],
   "source": [
    "# Entropy Wert für Yes und No\n",
    "yesNoEntropy = entropy(8,12)"
   ]
  },
  {
   "cell_type": "code",
   "execution_count": 181,
   "id": "6972c0bc",
   "metadata": {},
   "outputs": [],
   "source": [
    "def gainFunc (ds, column):\n",
    "    column_to_use = ds[column]\n",
    "    size = column_to_use.unique().size\n",
    "    values = []\n",
    "    entropy_value = 0\n",
    "    \n",
    "    if len(ds.Buys_computer.unique()) == 1:\n",
    "        print('leaf')\n",
    "        return 'leaf'\n",
    "    else:        \n",
    "        for x in range(size):\n",
    "            for y in range(2):\n",
    "                values.append( ds[(column_to_use == column_to_use.unique()[x]) & \n",
    "                         (ds.Buys_computer == ds.Buys_computer.unique()[y])].shape[0])\n",
    "                print(values)\n",
    "\n",
    "        #print(values)\n",
    "        return yesNoEntropy - gainEntropy(values)"
   ]
  },
  {
   "cell_type": "code",
   "execution_count": 165,
   "id": "006fb41e",
   "metadata": {},
   "outputs": [
    {
     "name": "stdout",
     "output_type": "stream",
     "text": [
      "[6, 2, 0, 6, 2, 4]\n",
      "[2, 3, 3, 5, 3, 4]\n",
      "[7, 4, 1, 8]\n",
      "[3, 7, 5, 5]\n"
     ]
    }
   ],
   "source": [
    "ageGain = gainFunc(ds, 'Age')\n",
    "incomeGain = gainFunc(ds, 'Income')\n",
    "studentGain = gainFunc(ds, 'Student')\n",
    "creditGain = gainFunc(ds,'Credit_rating')"
   ]
  },
  {
   "cell_type": "code",
   "execution_count": 166,
   "id": "bdce35bf",
   "metadata": {},
   "outputs": [
    {
     "name": "stdout",
     "output_type": "stream",
     "text": [
      "0.3709505944546686\n",
      "0.0016094970590274649\n",
      "0.2243711762752758\n",
      "0.03030514483932223\n"
     ]
    }
   ],
   "source": [
    "print(ageGain)\n",
    "print(incomeGain)\n",
    "print(studentGain)\n",
    "print(creditGain)"
   ]
  },
  {
   "cell_type": "markdown",
   "id": "fccc0d7e",
   "metadata": {},
   "source": [
    "somit wäre der erste Split das Alter"
   ]
  },
  {
   "cell_type": "code",
   "execution_count": 167,
   "id": "278b1897",
   "metadata": {},
   "outputs": [],
   "source": [
    "subset1 = ds[ds['Age'] == '<=30']\n",
    "subset2 = ds[ds['Age'] == '31...40']\n",
    "subset3 = ds[ds['Age'] == '>40']"
   ]
  },
  {
   "cell_type": "code",
   "execution_count": 176,
   "id": "0e203646",
   "metadata": {},
   "outputs": [
    {
     "data": {
      "text/html": [
       "<div>\n",
       "<style scoped>\n",
       "    .dataframe tbody tr th:only-of-type {\n",
       "        vertical-align: middle;\n",
       "    }\n",
       "\n",
       "    .dataframe tbody tr th {\n",
       "        vertical-align: top;\n",
       "    }\n",
       "\n",
       "    .dataframe thead th {\n",
       "        text-align: right;\n",
       "    }\n",
       "</style>\n",
       "<table border=\"1\" class=\"dataframe\">\n",
       "  <thead>\n",
       "    <tr style=\"text-align: right;\">\n",
       "      <th></th>\n",
       "      <th>REC</th>\n",
       "      <th>Age</th>\n",
       "      <th>Income</th>\n",
       "      <th>Student</th>\n",
       "      <th>Credit_rating</th>\n",
       "      <th>Buys_computer</th>\n",
       "    </tr>\n",
       "  </thead>\n",
       "  <tbody>\n",
       "    <tr>\n",
       "      <th>2</th>\n",
       "      <td>r3</td>\n",
       "      <td>31...40</td>\n",
       "      <td>High</td>\n",
       "      <td>No</td>\n",
       "      <td>Fair</td>\n",
       "      <td>Yes</td>\n",
       "    </tr>\n",
       "    <tr>\n",
       "      <th>6</th>\n",
       "      <td>r7</td>\n",
       "      <td>31...40</td>\n",
       "      <td>Low</td>\n",
       "      <td>Yes</td>\n",
       "      <td>Excellent</td>\n",
       "      <td>Yes</td>\n",
       "    </tr>\n",
       "    <tr>\n",
       "      <th>11</th>\n",
       "      <td>r12</td>\n",
       "      <td>31...40</td>\n",
       "      <td>Medium</td>\n",
       "      <td>No</td>\n",
       "      <td>Excellent</td>\n",
       "      <td>Yes</td>\n",
       "    </tr>\n",
       "    <tr>\n",
       "      <th>12</th>\n",
       "      <td>r13</td>\n",
       "      <td>31...40</td>\n",
       "      <td>High</td>\n",
       "      <td>Yes</td>\n",
       "      <td>Fair</td>\n",
       "      <td>Yes</td>\n",
       "    </tr>\n",
       "    <tr>\n",
       "      <th>17</th>\n",
       "      <td>ri8</td>\n",
       "      <td>31...40</td>\n",
       "      <td>Low</td>\n",
       "      <td>Yes</td>\n",
       "      <td>Fair</td>\n",
       "      <td>Yes</td>\n",
       "    </tr>\n",
       "    <tr>\n",
       "      <th>19</th>\n",
       "      <td>r20</td>\n",
       "      <td>31...40</td>\n",
       "      <td>High</td>\n",
       "      <td>No</td>\n",
       "      <td>Excellent</td>\n",
       "      <td>Yes</td>\n",
       "    </tr>\n",
       "  </tbody>\n",
       "</table>\n",
       "</div>"
      ],
      "text/plain": [
       "    REC      Age  Income Student Credit_rating Buys_computer\n",
       "2    r3  31...40    High      No          Fair           Yes\n",
       "6    r7  31...40     Low     Yes     Excellent           Yes\n",
       "11  r12  31...40  Medium      No     Excellent           Yes\n",
       "12  r13  31...40    High     Yes          Fair           Yes\n",
       "17  ri8  31...40     Low     Yes          Fair           Yes\n",
       "19  r20  31...40    High      No     Excellent           Yes"
      ]
     },
     "execution_count": 176,
     "metadata": {},
     "output_type": "execute_result"
    }
   ],
   "source": [
    "subset2"
   ]
  },
  {
   "cell_type": "code",
   "execution_count": 185,
   "id": "515e9e5f",
   "metadata": {},
   "outputs": [
    {
     "name": "stdout",
     "output_type": "stream",
     "text": [
      "[2]\n",
      "[2, 0]\n",
      "[2, 0, 2]\n",
      "[2, 0, 2, 1]\n",
      "[2, 0, 2, 1, 2]\n",
      "[2, 0, 2, 1, 2, 1]\n",
      "[6]\n",
      "[6, 0]\n",
      "[6, 0, 0]\n",
      "[6, 0, 0, 2]\n",
      "[3]\n",
      "[3, 1]\n",
      "[3, 1, 3]\n",
      "[3, 1, 3, 1]\n",
      "leaf\n",
      "leaf\n",
      "leaf\n",
      "[3]\n",
      "[3, 1]\n",
      "[3, 1, 1]\n",
      "[3, 1, 1, 1]\n",
      "[1]\n",
      "[1, 1]\n",
      "[1, 1, 3]\n",
      "[1, 1, 3, 1]\n",
      "[3]\n",
      "[3, 0]\n",
      "[3, 0, 1]\n",
      "[3, 0, 1, 2]\n"
     ]
    }
   ],
   "source": [
    "incomeGain1 = gainFunc(subset1, 'Income')\n",
    "studentGain1 = gainFunc(subset1, 'Student')\n",
    "creditGain1 = gainFunc(subset1,'Credit_rating')\n",
    "\n",
    "incomeGain2 = gainFunc(subset2, 'Income')\n",
    "studentGain2 = gainFunc(subset2, 'Student')\n",
    "creditGain2 = gainFunc(subset2,'Credit_rating')\n",
    "\n",
    "incomeGain3 = gainFunc(subset3, 'Income')\n",
    "studentGain3 = gainFunc(subset3, 'Student')\n",
    "creditGain3 = gainFunc(subset3,'Credit_rating')"
   ]
  },
  {
   "cell_type": "code",
   "execution_count": 186,
   "id": "a0fbc10b",
   "metadata": {},
   "outputs": [
    {
     "name": "stdout",
     "output_type": "stream",
     "text": [
      "0.2822287189138014\n",
      "0.9709505944546686\n",
      "0.15967246999553575\n"
     ]
    }
   ],
   "source": [
    "print(incomeGain1)\n",
    "print(studentGain1)\n",
    "print(creditGain1)"
   ]
  },
  {
   "cell_type": "code",
   "execution_count": 187,
   "id": "468b0c25",
   "metadata": {},
   "outputs": [
    {
     "name": "stdout",
     "output_type": "stream",
     "text": [
      "0.0967651781485801\n",
      "0.0967651781485801\n",
      "0.5118026774274238\n"
     ]
    }
   ],
   "source": [
    "print(incomeGain3)\n",
    "print(studentGain3)\n",
    "print(creditGain3)"
   ]
  },
  {
   "cell_type": "markdown",
   "id": "eb07bf1f",
   "metadata": {},
   "source": [
    "der zweite Split wäre Student"
   ]
  },
  {
   "cell_type": "code",
   "execution_count": null,
   "id": "32ffaba9",
   "metadata": {},
   "outputs": [],
   "source": []
  }
 ],
 "metadata": {
  "kernelspec": {
   "display_name": "Python 3",
   "language": "python",
   "name": "python3"
  },
  "language_info": {
   "codemirror_mode": {
    "name": "ipython",
    "version": 3
   },
   "file_extension": ".py",
   "mimetype": "text/x-python",
   "name": "python",
   "nbconvert_exporter": "python",
   "pygments_lexer": "ipython3",
   "version": "3.8.8"
  }
 },
 "nbformat": 4,
 "nbformat_minor": 5
}
